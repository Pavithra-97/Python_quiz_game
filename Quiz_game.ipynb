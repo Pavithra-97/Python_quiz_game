{
  "cells": [
    {
      "cell_type": "code",
      "execution_count": null,
      "metadata": {
        "id": "_HNFO3icxzFq"
      },
      "outputs": [],
      "source": []
    },
    {
      "cell_type": "code",
      "execution_count": null,
      "metadata": {
        "colab": {
          "base_uri": "https://localhost:8080/"
        },
        "id": "XDCnKUVNxeaK",
        "outputId": "7c9b87e5-66de-4abe-e3ce-d6dff54697ac"
      },
      "outputs": [
        {
          "name": "stdout",
          "output_type": "stream",
          "text": [
            "Welcome to Quiz game!\n"
          ]
        }
      ],
      "source": [
        "print(\"Welcome to Quiz game!\")\n",
        "playing = input(\"Do you want to get started into the quiz game? \")\n",
        "score = 0\n",
        "\n",
        "if playing.lower() != \"yes\":\n",
        "    print(\"You may safely exit the quiz game\")\n",
        "    quit()\n",
        "\n",
        "Q1 = input(\"What is the chemical formula for water? \")     \n",
        "if Q1.lower() == \"h2o\":\n",
        "    print(\"Correct answer!\")\n",
        "    score = score + 1\n",
        "else:\n",
        "    print(\"Incorrect!\")\n",
        "\n",
        "Q2 = input(\"In which country is the Great Wall located? \")\n",
        "if Q2.lower() == \"china\":\n",
        "    print(\"Correct answer!\")   \n",
        "    score = score + 1\n",
        "else:\n",
        "    print(\"Incorrect!\")\n",
        "\n",
        "Q3 = input(\"What is the largest planet in our solar system? \")\n",
        "if Q3.lower() == \"jupiter\":\n",
        "    print(\"Correct answer!\")\n",
        "    score = score + 1\n",
        "else:\n",
        "    print(\"Incorrect!\")\n",
        "\n",
        "Q4 = input(\"What does the acronym 'URL' stand for in the context of web addresses? \")\n",
        "if Q4.lower() == \"uniform resource locator\":\n",
        "    print(\"Correct answer!\")\n",
        "    score = score + 1\n",
        "else:\n",
        "    print(\"Incorrect!\")\n",
        "\n",
        "Q5 = input(\"What is the abbreviation of 'PDF'? \")\n",
        "if Q5.lower() == \"portable document format\":\n",
        "    print(\"Correct answer!\")\n",
        "    score = score + 1\n",
        "else:\n",
        "    print(\"Incorrect!\")\n",
        "\n",
        "print(\"You've got \" + str(score) + \" out of 5 questions correct!\")\n",
        "\n"
      ]
    },
    {
      "cell_type": "code",
      "execution_count": null,
      "metadata": {
        "id": "bwoVDLmUyLDH"
      },
      "outputs": [],
      "source": []
    }
  ],
  "metadata": {
    "colab": {
      "provenance": []
    },
    "kernelspec": {
      "display_name": "Python 3",
      "name": "python3"
    },
    "language_info": {
      "name": "python"
    }
  },
  "nbformat": 4,
  "nbformat_minor": 0
}
